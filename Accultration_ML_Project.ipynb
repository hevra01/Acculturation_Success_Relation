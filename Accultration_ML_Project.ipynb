{
 "cells": [
  {
   "cell_type": "code",
   "execution_count": 2,
   "id": "4388d2ea",
   "metadata": {},
   "outputs": [],
   "source": [
    "import numpy as np\n",
    "import pandas as pd\n",
    "from sklearn.linear_model import LinearRegression\n",
    "import os\n",
    "from sklearn.preprocessing import OneHotEncoder"
   ]
  },
  {
   "cell_type": "code",
   "execution_count": 3,
   "id": "0181d94a",
   "metadata": {},
   "outputs": [],
   "source": [
    "df = pd.read_csv(\"eng_tur_combined.csv\")"
   ]
  },
  {
   "cell_type": "code",
   "execution_count": 4,
   "id": "a89b884c",
   "metadata": {
    "scrolled": false
   },
   "outputs": [],
   "source": [
    "df.drop(\"Timestamp\", axis=1, inplace=True)"
   ]
  },
  {
   "cell_type": "code",
   "execution_count": 5,
   "id": "15715af1",
   "metadata": {},
   "outputs": [],
   "source": [
    "df.rename(columns={'Since how many years have you been sharing a common place with the people foreign to your own culture or nationality? (If you have been surrounded with them your whole life, you can simply enter your age): ': 'yearSpentWithForeign', 'Are you among the majority or the minority with respect to ethnicity, culture, or religion of the population who you share a common place with?': 'major/minor', 'Do you speak your mother tongue with your family members? ': 'mTongueFamily'}, inplace=True)\n",
    "df.rename(columns={'With people outside of your family members, who also share the same mother tongue with you, how often do you speak in your mother tongue with them?': 'mTongueOut', 'Aside from your own family members (mother, father, siblings),  how much amount of people, who you spend time with the most, are foreign to your own culture, religion, or nationality? ':'spentTimeWithForeignPeople'}, inplace=True)\n",
    "df.rename(columns={'How often do you practice your own culture? ': 'howOftnPractUrCulture', 'How often without any form of pressure are you able to practice your own religious beliefs or disbelief?':'practBeliefFreely', 'Do you ever feel like the person living your life is not you? ': 'LivinNotU'}, inplace=True)\n",
    "df.rename(columns={'When compared to people of your age, how successful are you in regards to your career or academic studies? Note: the emotional satisfaction you gain should not be considered for this question.':'careerSuccess', 'How strong is your emotional bond with yourself and people who you consider close to yourself? These can include both relatives and friends.':'emotionalSuccess'}, inplace=True)\n",
    "df.rename(columns={'If your friend invites you to an event that is related to their culture or religion, which is not the same as yours, would you like to go?': 'goToForeignEvent', 'Do you sometimes find yourself enjoying your time with someone that is not from your culture or religion?':'enjoyTimeForeignPeople'}, inplace=True)"
   ]
  },
  {
   "cell_type": "code",
   "execution_count": 6,
   "id": "bfed3147",
   "metadata": {},
   "outputs": [],
   "source": [
    "df.drop(labels=[7], axis=0, inplace=True)\n",
    "# converting yearSpentWithForeign to int data type\n",
    "df[\"yearSpentWithForeign\"] = df[\"yearSpentWithForeign\"].astype(str).astype(int);"
   ]
  },
  {
   "cell_type": "code",
   "execution_count": 7,
   "id": "a5eb6607",
   "metadata": {},
   "outputs": [
    {
     "name": "stdout",
     "output_type": "stream",
     "text": [
      "['major/minor', 'mTongueFamily', 'mTongueOut', 'spentTimeWithForeignPeople', 'howOftnPractUrCulture', 'practBeliefFreely', 'LivinNotU', 'careerSuccess', 'emotionalSuccess', 'goToForeignEvent', 'enjoyTimeForeignPeople']\n"
     ]
    }
   ],
   "source": [
    "object_cols = [col for col in df if df[col].dtype == \"object\"]\n",
    "print(object_cols);"
   ]
  },
  {
   "cell_type": "code",
   "execution_count": 8,
   "id": "c07224f0",
   "metadata": {},
   "outputs": [],
   "source": [
    "# Apply one-hot encoder to majority/minority column categorical data\n",
    "OH_encoder = OneHotEncoder(handle_unknown='ignore', sparse=False)\n",
    "columnsToBeTransferred = ['major/minor', 'mTongueFamily', 'goToForeignEvent', 'enjoyTimeForeignPeople']\n",
    "one_hot_columns = pd.DataFrame(OH_encoder.fit_transform(df[columnsToBeTransferred]))\n",
    "\n",
    "# One-hot encoding removed index; put it back\n",
    "one_hot_columns.index = df.index\n",
    "\n",
    "# Remove the columns which will be one_hoted (will replace with one-hot encoding)\n",
    "otherFeatures_df = df.drop(columnsToBeTransferred, axis=1)\n",
    "\n",
    "# Add one-hot encoded columns to numerical features\n",
    "df = pd.concat([otherFeatures_df, one_hot_columns], axis=1)"
   ]
  },
  {
   "cell_type": "code",
   "execution_count": 9,
   "id": "e1ebf5df",
   "metadata": {},
   "outputs": [],
   "source": [
    "from sklearn.preprocessing import OrdinalEncoder\n",
    "\n",
    "columns_to_be_converted_to_ordinal = ['mTongueOut','spentTimeWithForeignPeople','howOftnPractUrCulture','practBeliefFreely','LivinNotU','careerSuccess','emotionalSuccess']\n",
    "# Make copy to avoid changing original data \n",
    "df_to_be_modified = df.copy()\n",
    "\n",
    "\n",
    "ordinal_encoder = OrdinalEncoder()\n",
    "df[columns_to_be_converted_to_ordinal] = ordinal_encoder.fit_transform(df[columns_to_be_converted_to_ordinal])"
   ]
  },
  {
   "cell_type": "code",
   "execution_count": 10,
   "id": "2e02b5ac",
   "metadata": {},
   "outputs": [],
   "source": [
    "from sklearn.cluster import KMeans\n",
    "\n",
    "from sklearn.metrics import silhouette_score\n",
    "\n",
    "sil = []\n",
    "kmax = 10\n",
    "\n",
    "# dissimilarity would not be defined for a single cluster, thus, minimum number of clusters should be 2\n",
    "for k in range(2, kmax+1):\n",
    "  kmeans = KMeans(n_clusters = k).fit(df)\n",
    "  labels = kmeans.labels_\n",
    "  sil.append(silhouette_score(df, labels, metric = 'euclidean'))\n",
    "df['cluster']=labels"
   ]
  },
  {
   "cell_type": "code",
   "execution_count": 11,
   "id": "377e8b26",
   "metadata": {},
   "outputs": [
    {
     "data": {
      "text/plain": [
       "[0.5396593066289139,\n",
       " 0.4538767319889764,\n",
       " 0.5058159701885957,\n",
       " 0.5335229161832837,\n",
       " 0.4104654157223324,\n",
       " 0.4066490068800156,\n",
       " 0.3930541485384025,\n",
       " 0.3321288709702125,\n",
       " 0.2459464242936785]"
      ]
     },
     "execution_count": 11,
     "metadata": {},
     "output_type": "execute_result"
    }
   ],
   "source": [
    "sil"
   ]
  },
  {
   "cell_type": "code",
   "execution_count": 116,
   "id": "14c9b91a",
   "metadata": {},
   "outputs": [
    {
     "data": {
      "image/png": "[encoded data removed]",
      "text/plain": [
       "<Figure size 474.375x432 with 1 Axes>"
      ]
     },
     "metadata": {
      "needs_background": "light"
     },
     "output_type": "display_data"
    }
   ],
   "source": [
    "sns.relplot(\n",
    "    x=df[\"yearSpentWithForeign\"], y=df[\"emotionalSuccess\"], hue=df[\"cluster\"], data=df, height=6, color=''\n",
    ");"
   ]
  },
  {
   "cell_type": "code",
   "execution_count": 73,
   "id": "40904087",
   "metadata": {},
   "outputs": [
    {
     "data": {
      "text/plain": [
       "<matplotlib.collections.PathCollection at 0x1a9cf7f5f10>"
      ]
     },
     "execution_count": 73,
     "metadata": {},
     "output_type": "execute_result"
    },
    {
     "data": {
      "image/png": "[encoded data removed]",
      "text/plain": [
       "<Figure size 432x288 with 1 Axes>"
      ]
     },
     "metadata": {
      "needs_background": "light"
     },
     "output_type": "display_data"
    }
   ],
   "source": []
  },
  {
   "cell_type": "code",
   "execution_count": 45,
   "id": "e196a0f0",
   "metadata": {},
   "outputs": [],
   "source": []
  },
  {
   "cell_type": "code",
   "execution_count": null,
   "id": "7979e21c",
   "metadata": {},
   "outputs": [],
   "source": []
  }
 ],
 "metadata": {
  "kernelspec": {
   "display_name": "Python 3",
   "language": "python",
   "name": "python3"
  },
  "language_info": {
   "codemirror_mode": {
    "name": "ipython",
    "version": 3
   },
   "file_extension": ".py",
   "mimetype": "text/x-python",
   "name": "python",
   "nbconvert_exporter": "python",
   "pygments_lexer": "ipython3",
   "version": "3.8.8"
  }
 },
 "nbformat": 4,
 "nbformat_minor": 5
}
